{
 "cells": [
  {
   "cell_type": "code",
   "execution_count": 79,
   "metadata": {},
   "outputs": [],
   "source": [
    "import requests\n",
    "import os\n",
    "import getpass\n",
    "\n",
    "API_KEY = getpass.getpass(\"Enter the API:\")\n",
    "headers = {\n",
    "    'X-ELS-APIKey': API_KEY\n",
    "}\n",
    "\n",
    "base_url = \"https://api.elsevier.com/content/search/sciencedirect\"\n",
    "query = \"oscillating water columns\"\n",
    "params = {\n",
    "    'query': query,\n",
    "    'count': 5,\n",
    "    'start': 0,\n",
    "}\n",
    "\n",
    "response = requests.get(base_url, headers=headers, params=params)\n",
    "data = response.json()\n",
    "pdf_directory='papers'\n",
    "\n",
    "params = {\n",
    "    'httpAccept': 'application/pdf',\n",
    "}\n",
    "for result in data['search-results']['entry']:\n",
    "    article_title = result['dc:title']\n",
    "\n",
    "    \n",
    "\n",
    "\n",
    "    first_author = result['authors']['author'][0]['$'].replace(' ','_')\n",
    "    pub_date=data['search-results']['entry'][0]['load-date'].split('T')[0]\n",
    "    article_id = result['link'][0]['@href'].split('/')[-1]\n",
    "    pdf_name = first_author+\"_\"+pub_date+'_ocw'+'.pdf'\n",
    "    file_path = os.path.join(pdf_directory, pdf_name)\n",
    "\n",
    "    # If an article already exists in the directory, do not proceed that artilce again. \n",
    "    if os.path.exists(file_path):\n",
    "        continue\n",
    "\n",
    "    article_url = f\"https://api.elsevier.com/content/article/pii/{article_id}\"\n",
    "    response = requests.get(article_url, headers=headers, params=params)\n",
    "\n",
    "    with open(file_path, 'wb') as f:\n",
    "        f.write(response.content)\n",
    "    article_name_previous=article_title\n",
    "\n",
    "\n"
   ]
  }
 ],
 "metadata": {
  "kernelspec": {
   "display_name": "base",
   "language": "python",
   "name": "python3"
  },
  "language_info": {
   "codemirror_mode": {
    "name": "ipython",
    "version": 3
   },
   "file_extension": ".py",
   "mimetype": "text/x-python",
   "name": "python",
   "nbconvert_exporter": "python",
   "pygments_lexer": "ipython3",
   "version": "3.12.4"
  }
 },
 "nbformat": 4,
 "nbformat_minor": 2
}
